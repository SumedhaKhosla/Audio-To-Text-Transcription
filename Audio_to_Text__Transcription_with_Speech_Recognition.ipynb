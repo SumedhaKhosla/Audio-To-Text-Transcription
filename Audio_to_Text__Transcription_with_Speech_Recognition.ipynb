{
  "nbformat": 4,
  "nbformat_minor": 0,
  "metadata": {
    "colab": {
      "provenance": []
    },
    "kernelspec": {
      "name": "python3",
      "display_name": "Python 3"
    },
    "language_info": {
      "name": "python"
    }
  },
  "cells": [
    {
      "cell_type": "code",
      "execution_count": 4,
      "metadata": {
        "colab": {
          "base_uri": "https://localhost:8080/"
        },
        "id": "Q-IRu7C4oCpP",
        "outputId": "b5c21f55-4e49-4471-c7c0-1718ada78f32"
      },
      "outputs": [
        {
          "output_type": "stream",
          "name": "stdout",
          "text": [
            "Collecting SpeechRecognition\n",
            "  Downloading SpeechRecognition-3.10.4-py2.py3-none-any.whl.metadata (28 kB)\n",
            "Collecting pydub\n",
            "  Downloading pydub-0.25.1-py2.py3-none-any.whl.metadata (1.4 kB)\n",
            "Requirement already satisfied: requests>=2.26.0 in /usr/local/lib/python3.10/dist-packages (from SpeechRecognition) (2.32.3)\n",
            "Requirement already satisfied: typing-extensions in /usr/local/lib/python3.10/dist-packages (from SpeechRecognition) (4.12.2)\n",
            "Requirement already satisfied: charset-normalizer<4,>=2 in /usr/local/lib/python3.10/dist-packages (from requests>=2.26.0->SpeechRecognition) (3.3.2)\n",
            "Requirement already satisfied: idna<4,>=2.5 in /usr/local/lib/python3.10/dist-packages (from requests>=2.26.0->SpeechRecognition) (3.7)\n",
            "Requirement already satisfied: urllib3<3,>=1.21.1 in /usr/local/lib/python3.10/dist-packages (from requests>=2.26.0->SpeechRecognition) (2.0.7)\n",
            "Requirement already satisfied: certifi>=2017.4.17 in /usr/local/lib/python3.10/dist-packages (from requests>=2.26.0->SpeechRecognition) (2024.7.4)\n",
            "Downloading SpeechRecognition-3.10.4-py2.py3-none-any.whl (32.8 MB)\n",
            "\u001b[2K   \u001b[90m━━━━━━━━━━━━━━━━━━━━━━━━━━━━━━━━━━━━━━━━\u001b[0m \u001b[32m32.8/32.8 MB\u001b[0m \u001b[31m32.3 MB/s\u001b[0m eta \u001b[36m0:00:00\u001b[0m\n",
            "\u001b[?25hDownloading pydub-0.25.1-py2.py3-none-any.whl (32 kB)\n",
            "Installing collected packages: pydub, SpeechRecognition\n",
            "Successfully installed SpeechRecognition-3.10.4 pydub-0.25.1\n"
          ]
        }
      ],
      "source": [
        "pip install SpeechRecognition pydub\n"
      ]
    },
    {
      "cell_type": "code",
      "source": [
        "import speech_recognition as sr\n",
        "import subprocess\n",
        "from pydub import AudioSegment\n",
        "from pydub.silence import split_on_silence\n",
        "from google.colab import files\n",
        "import os"
      ],
      "metadata": {
        "id": "e2Cu3xSroQX2"
      },
      "execution_count": 5,
      "outputs": []
    },
    {
      "cell_type": "code",
      "source": [
        "uploaded = files.upload()"
      ],
      "metadata": {
        "colab": {
          "base_uri": "https://localhost:8080/",
          "height": 73
        },
        "id": "CO0fRx0koGIy",
        "outputId": "8471bcab-cbe2-4657-88c2-046ae5f584ff"
      },
      "execution_count": 6,
      "outputs": [
        {
          "output_type": "display_data",
          "data": {
            "text/plain": [
              "<IPython.core.display.HTML object>"
            ],
            "text/html": [
              "\n",
              "     <input type=\"file\" id=\"files-92c85e42-ca29-4ce1-b544-935da1c75210\" name=\"files[]\" multiple disabled\n",
              "        style=\"border:none\" />\n",
              "     <output id=\"result-92c85e42-ca29-4ce1-b544-935da1c75210\">\n",
              "      Upload widget is only available when the cell has been executed in the\n",
              "      current browser session. Please rerun this cell to enable.\n",
              "      </output>\n",
              "      <script>// Copyright 2017 Google LLC\n",
              "//\n",
              "// Licensed under the Apache License, Version 2.0 (the \"License\");\n",
              "// you may not use this file except in compliance with the License.\n",
              "// You may obtain a copy of the License at\n",
              "//\n",
              "//      http://www.apache.org/licenses/LICENSE-2.0\n",
              "//\n",
              "// Unless required by applicable law or agreed to in writing, software\n",
              "// distributed under the License is distributed on an \"AS IS\" BASIS,\n",
              "// WITHOUT WARRANTIES OR CONDITIONS OF ANY KIND, either express or implied.\n",
              "// See the License for the specific language governing permissions and\n",
              "// limitations under the License.\n",
              "\n",
              "/**\n",
              " * @fileoverview Helpers for google.colab Python module.\n",
              " */\n",
              "(function(scope) {\n",
              "function span(text, styleAttributes = {}) {\n",
              "  const element = document.createElement('span');\n",
              "  element.textContent = text;\n",
              "  for (const key of Object.keys(styleAttributes)) {\n",
              "    element.style[key] = styleAttributes[key];\n",
              "  }\n",
              "  return element;\n",
              "}\n",
              "\n",
              "// Max number of bytes which will be uploaded at a time.\n",
              "const MAX_PAYLOAD_SIZE = 100 * 1024;\n",
              "\n",
              "function _uploadFiles(inputId, outputId) {\n",
              "  const steps = uploadFilesStep(inputId, outputId);\n",
              "  const outputElement = document.getElementById(outputId);\n",
              "  // Cache steps on the outputElement to make it available for the next call\n",
              "  // to uploadFilesContinue from Python.\n",
              "  outputElement.steps = steps;\n",
              "\n",
              "  return _uploadFilesContinue(outputId);\n",
              "}\n",
              "\n",
              "// This is roughly an async generator (not supported in the browser yet),\n",
              "// where there are multiple asynchronous steps and the Python side is going\n",
              "// to poll for completion of each step.\n",
              "// This uses a Promise to block the python side on completion of each step,\n",
              "// then passes the result of the previous step as the input to the next step.\n",
              "function _uploadFilesContinue(outputId) {\n",
              "  const outputElement = document.getElementById(outputId);\n",
              "  const steps = outputElement.steps;\n",
              "\n",
              "  const next = steps.next(outputElement.lastPromiseValue);\n",
              "  return Promise.resolve(next.value.promise).then((value) => {\n",
              "    // Cache the last promise value to make it available to the next\n",
              "    // step of the generator.\n",
              "    outputElement.lastPromiseValue = value;\n",
              "    return next.value.response;\n",
              "  });\n",
              "}\n",
              "\n",
              "/**\n",
              " * Generator function which is called between each async step of the upload\n",
              " * process.\n",
              " * @param {string} inputId Element ID of the input file picker element.\n",
              " * @param {string} outputId Element ID of the output display.\n",
              " * @return {!Iterable<!Object>} Iterable of next steps.\n",
              " */\n",
              "function* uploadFilesStep(inputId, outputId) {\n",
              "  const inputElement = document.getElementById(inputId);\n",
              "  inputElement.disabled = false;\n",
              "\n",
              "  const outputElement = document.getElementById(outputId);\n",
              "  outputElement.innerHTML = '';\n",
              "\n",
              "  const pickedPromise = new Promise((resolve) => {\n",
              "    inputElement.addEventListener('change', (e) => {\n",
              "      resolve(e.target.files);\n",
              "    });\n",
              "  });\n",
              "\n",
              "  const cancel = document.createElement('button');\n",
              "  inputElement.parentElement.appendChild(cancel);\n",
              "  cancel.textContent = 'Cancel upload';\n",
              "  const cancelPromise = new Promise((resolve) => {\n",
              "    cancel.onclick = () => {\n",
              "      resolve(null);\n",
              "    };\n",
              "  });\n",
              "\n",
              "  // Wait for the user to pick the files.\n",
              "  const files = yield {\n",
              "    promise: Promise.race([pickedPromise, cancelPromise]),\n",
              "    response: {\n",
              "      action: 'starting',\n",
              "    }\n",
              "  };\n",
              "\n",
              "  cancel.remove();\n",
              "\n",
              "  // Disable the input element since further picks are not allowed.\n",
              "  inputElement.disabled = true;\n",
              "\n",
              "  if (!files) {\n",
              "    return {\n",
              "      response: {\n",
              "        action: 'complete',\n",
              "      }\n",
              "    };\n",
              "  }\n",
              "\n",
              "  for (const file of files) {\n",
              "    const li = document.createElement('li');\n",
              "    li.append(span(file.name, {fontWeight: 'bold'}));\n",
              "    li.append(span(\n",
              "        `(${file.type || 'n/a'}) - ${file.size} bytes, ` +\n",
              "        `last modified: ${\n",
              "            file.lastModifiedDate ? file.lastModifiedDate.toLocaleDateString() :\n",
              "                                    'n/a'} - `));\n",
              "    const percent = span('0% done');\n",
              "    li.appendChild(percent);\n",
              "\n",
              "    outputElement.appendChild(li);\n",
              "\n",
              "    const fileDataPromise = new Promise((resolve) => {\n",
              "      const reader = new FileReader();\n",
              "      reader.onload = (e) => {\n",
              "        resolve(e.target.result);\n",
              "      };\n",
              "      reader.readAsArrayBuffer(file);\n",
              "    });\n",
              "    // Wait for the data to be ready.\n",
              "    let fileData = yield {\n",
              "      promise: fileDataPromise,\n",
              "      response: {\n",
              "        action: 'continue',\n",
              "      }\n",
              "    };\n",
              "\n",
              "    // Use a chunked sending to avoid message size limits. See b/62115660.\n",
              "    let position = 0;\n",
              "    do {\n",
              "      const length = Math.min(fileData.byteLength - position, MAX_PAYLOAD_SIZE);\n",
              "      const chunk = new Uint8Array(fileData, position, length);\n",
              "      position += length;\n",
              "\n",
              "      const base64 = btoa(String.fromCharCode.apply(null, chunk));\n",
              "      yield {\n",
              "        response: {\n",
              "          action: 'append',\n",
              "          file: file.name,\n",
              "          data: base64,\n",
              "        },\n",
              "      };\n",
              "\n",
              "      let percentDone = fileData.byteLength === 0 ?\n",
              "          100 :\n",
              "          Math.round((position / fileData.byteLength) * 100);\n",
              "      percent.textContent = `${percentDone}% done`;\n",
              "\n",
              "    } while (position < fileData.byteLength);\n",
              "  }\n",
              "\n",
              "  // All done.\n",
              "  yield {\n",
              "    response: {\n",
              "      action: 'complete',\n",
              "    }\n",
              "  };\n",
              "}\n",
              "\n",
              "scope.google = scope.google || {};\n",
              "scope.google.colab = scope.google.colab || {};\n",
              "scope.google.colab._files = {\n",
              "  _uploadFiles,\n",
              "  _uploadFilesContinue,\n",
              "};\n",
              "})(self);\n",
              "</script> "
            ]
          },
          "metadata": {}
        },
        {
          "output_type": "stream",
          "name": "stdout",
          "text": [
            "Saving The Climb audiobook.mp3 to The Climb audiobook.mp3\n"
          ]
        }
      ]
    },
    {
      "cell_type": "code",
      "source": [
        "input_audio_file = list(uploaded.keys())[0]"
      ],
      "metadata": {
        "id": "XIuP3AFJom6I"
      },
      "execution_count": 7,
      "outputs": []
    },
    {
      "cell_type": "code",
      "source": [
        "output_wav_file = \"wav_file.wav\"\n",
        "subprocess.call(['ffmpeg', '-i', input_audio_file, output_wav_file])\n"
      ],
      "metadata": {
        "colab": {
          "base_uri": "https://localhost:8080/"
        },
        "id": "eqitPRipoqCD",
        "outputId": "81fd63bf-4dff-4f5f-d17a-bcfbb995c411"
      },
      "execution_count": 8,
      "outputs": [
        {
          "output_type": "execute_result",
          "data": {
            "text/plain": [
              "0"
            ]
          },
          "metadata": {},
          "execution_count": 8
        }
      ]
    },
    {
      "cell_type": "code",
      "source": [
        "r = sr.Recognizer()"
      ],
      "metadata": {
        "id": "s-6-6V9hotQa"
      },
      "execution_count": 9,
      "outputs": []
    },
    {
      "cell_type": "code",
      "source": [
        "def test_audio_recognition(path):\n",
        "    \"\"\"\n",
        "    Test speech recognition on the provided audio file.\n",
        "    \"\"\"\n",
        "    try:\n",
        "        with sr.AudioFile(path) as source:\n",
        "            audio_listened = r.record(source)\n",
        "            text = r.recognize_google(audio_listened, language=\"en-US\")\n",
        "            print(f\"Recognized text: {text}\")\n",
        "            return text\n",
        "    except sr.UnknownValueError:\n",
        "        print(\"Error: Unable to recognize speech\")\n",
        "        return None\n",
        "    except sr.RequestError as e:\n",
        "        print(f\"Request Error: {str(e)}\")\n",
        "        return None\n",
        "\n",
        "def get_large_audio_transcription(path):\n",
        "    \"\"\"\n",
        "    Splitting the large audio file into chunks\n",
        "    and applying speech recognition on each of these chunks.\n",
        "    \"\"\"\n",
        "    # Load the audio file using pydub\n",
        "    sound = AudioSegment.from_wav(path)\n",
        "\n",
        "    # Split audio sound where silence is 500 ms or more and get chunks\n",
        "    chunks = split_on_silence(sound,\n",
        "        min_silence_len = 500,\n",
        "        silence_thresh = sound.dBFS - 14,\n",
        "        keep_silence = 500,\n",
        "    )\n",
        "\n",
        "    # Directory to store the audio chunks\n",
        "    folder_name = \"audio-chunks\"\n",
        "    if not os.path.isdir(folder_name):\n",
        "        os.mkdir(folder_name)\n",
        "\n",
        "    whole_text = \"\"\n",
        "\n",
        "    # Process each chunk\n",
        "    for i, audio_chunk in enumerate(chunks, start=1):\n",
        "        chunk_filename = os.path.join(folder_name, f\"chunk{i}.wav\")\n",
        "        audio_chunk.export(chunk_filename, format=\"wav\")\n",
        "\n",
        "        # Print chunk details for debugging\n",
        "        print(f\"Processing chunk {i}, length: {len(audio_chunk)} ms\")\n",
        "\n",
        "        with sr.AudioFile(chunk_filename) as source:\n",
        "            audio_listened = r.record(source)\n",
        "            try:\n",
        "                text = r.recognize_google(audio_listened, language=\"en-US\")\n",
        "                print(f\"Chunk {i} recognized: {text}\")\n",
        "                whole_text += text.capitalize() + \". \"\n",
        "            except sr.UnknownValueError:\n",
        "                print(f\"Error with chunk {i}: Unable to recognize speech\")\n",
        "\n",
        "    # Return the complete transcription\n",
        "    return whole_text"
      ],
      "metadata": {
        "id": "87c89uPjoz1u"
      },
      "execution_count": 10,
      "outputs": []
    },
    {
      "cell_type": "code",
      "source": [
        "print(\"Testing full audio file:\")\n",
        "print(test_audio_recognition(output_wav_file))\n"
      ],
      "metadata": {
        "colab": {
          "base_uri": "https://localhost:8080/"
        },
        "id": "tJj0iGY8o1fM",
        "outputId": "2e6c57d1-61f1-41e4-e980-f040bd57dd64"
      },
      "execution_count": 11,
      "outputs": [
        {
          "output_type": "stream",
          "name": "stdout",
          "text": [
            "Testing full audio file:\n",
            "Recognized text: what's the possibility of an attraction or a relationship was off the table they could become friends with none of the usual boy girl pheromones interfering since then they'd never returned to the subject of us as a couple but lately things were becoming weird you felt lighter and full of hope maybe this was finally his chance to make a move ever since he started high school she had been his one and only crush and ask her out of the year 7 K Camp and she turned him down saying she was waiting to have a boyfriend when she was older at first he thought she'd just been making up an excuse to reject him like all the other girls here return that she kept saying no to everyone she wasn't interested in a boyfriend and so he became content to wait he figured it was only a matter of time until she wanted someone naked finally crossed over from Friends into something more all he wanted was the fearer\n",
            "what's the possibility of an attraction or a relationship was off the table they could become friends with none of the usual boy girl pheromones interfering since then they'd never returned to the subject of us as a couple but lately things were becoming weird you felt lighter and full of hope maybe this was finally his chance to make a move ever since he started high school she had been his one and only crush and ask her out of the year 7 K Camp and she turned him down saying she was waiting to have a boyfriend when she was older at first he thought she'd just been making up an excuse to reject him like all the other girls here return that she kept saying no to everyone she wasn't interested in a boyfriend and so he became content to wait he figured it was only a matter of time until she wanted someone naked finally crossed over from Friends into something more all he wanted was the fearer\n"
          ]
        }
      ]
    },
    {
      "cell_type": "code",
      "source": [
        "print(\"\\nTesting chunked audio file:\")\n",
        "print(get_large_audio_transcription(output_wav_file))"
      ],
      "metadata": {
        "colab": {
          "base_uri": "https://localhost:8080/"
        },
        "id": "_IebohmFo9Ku",
        "outputId": "4d61bae6-2f54-42de-a12d-ed452c912a26"
      },
      "execution_count": 12,
      "outputs": [
        {
          "output_type": "stream",
          "name": "stdout",
          "text": [
            "\n",
            "Testing chunked audio file:\n",
            "Processing chunk 1, length: 4908 ms\n",
            "Chunk 1 recognized: what's the possibility of an attraction or a relationship was off the table\n",
            "Processing chunk 2, length: 5383 ms\n",
            "Chunk 2 recognized: they could become friends with none of the usual boy girl pheromones interfering\n",
            "Processing chunk 3, length: 4564 ms\n",
            "Chunk 3 recognized: since then they've never returned to the subject of us as a couple\n",
            "Processing chunk 4, length: 2775 ms\n",
            "Chunk 4 recognized: but lately things were becoming weird\n",
            "Processing chunk 5, length: 1454 ms\n",
            "Chunk 5 recognized: he felt light\n",
            "Processing chunk 6, length: 1348 ms\n",
            "Chunk 6 recognized: and full of heart\n",
            "Processing chunk 7, length: 3022 ms\n",
            "Chunk 7 recognized: maybe this was finally his chance to make a move\n",
            "Processing chunk 8, length: 2260 ms\n",
            "Chunk 8 recognized: ever since he started High School\n",
            "Processing chunk 9, length: 2787 ms\n",
            "Chunk 9 recognized: cheapest one and only Crush\n",
            "Processing chunk 10, length: 6621 ms\n",
            "Chunk 10 recognized: Vienna surrounded a year 7 camp and she had turned it down saying she was waiting to have a boyfriend when she was older\n",
            "Processing chunk 11, length: 5871 ms\n",
            "Chunk 11 recognized: at first he thought she'd just been making up an excuse to reject him like all the other girls he had asked out\n",
            "Processing chunk 12, length: 4269 ms\n",
            "Chunk 12 recognized: but he noticed on their return that she kept saying no to everyone\n",
            "Processing chunk 13, length: 2308 ms\n",
            "Chunk 13 recognized: she wasn't interested in a boyfriend\n",
            "Processing chunk 14, length: 2521 ms\n",
            "Chunk 14 recognized: I'm sorry he became content to White\n",
            "Processing chunk 15, length: 3479 ms\n",
            "Chunk 15 recognized: he figured it was only a matter of time until she wanted someone\n",
            "Processing chunk 16, length: 4045 ms\n",
            "Chunk 16 recognized: make it finally crossover from Friends into something more\n",
            "Processing chunk 17, length: 2458 ms\n",
            "Chunk 17 recognized: all he wanted was zafira\n",
            "What's the possibility of an attraction or a relationship was off the table. They could become friends with none of the usual boy girl pheromones interfering. Since then they've never returned to the subject of us as a couple. But lately things were becoming weird. He felt light. And full of heart. Maybe this was finally his chance to make a move. Ever since he started high school. Cheapest one and only crush. Vienna surrounded a year 7 camp and she had turned it down saying she was waiting to have a boyfriend when she was older. At first he thought she'd just been making up an excuse to reject him like all the other girls he had asked out. But he noticed on their return that she kept saying no to everyone. She wasn't interested in a boyfriend. I'm sorry he became content to white. He figured it was only a matter of time until she wanted someone. Make it finally crossover from friends into something more. All he wanted was zafira. \n"
          ]
        }
      ]
    }
  ]
}